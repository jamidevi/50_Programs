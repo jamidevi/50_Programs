{
 "cells": [
  {
   "cell_type": "markdown",
   "id": "91120838",
   "metadata": {},
   "source": [
    "### 1)Character Count"
   ]
  },
  {
   "cell_type": "code",
   "execution_count": 2,
   "id": "87397eb8",
   "metadata": {},
   "outputs": [
    {
     "name": "stdout",
     "output_type": "stream",
     "text": [
      "Enter the String:Jami DevI\n",
      "Enter the Character:I\n",
      "2\n"
     ]
    }
   ],
   "source": [
    "def char_count(input1,input3):\n",
    "    return input1.count(input3)\n",
    "input1=input(\"Enter the String:\").lower()\n",
    "input3=input(\"Enter the Character:\").lower()\n",
    "Count=char_count(input1,input3)\n",
    "print(Count)"
   ]
  },
  {
   "cell_type": "code",
   "execution_count": 4,
   "id": "4fe0887f",
   "metadata": {},
   "outputs": [
    {
     "name": "stdout",
     "output_type": "stream",
     "text": [
      "Enter the String:Good Morining welcome to programming\n",
      "Enter the Character To Count:G\n",
      "Count of the Character is : 4\n"
     ]
    }
   ],
   "source": [
    "def char_count(s1,s2):\n",
    "    c=0\n",
    "    for char in s1:\n",
    "        if(char==s2):\n",
    "            c+=1\n",
    "    return c\n",
    "s1=input(\"Enter the String:\").lower()\n",
    "s2=input(\"Enter the Character To Count:\").lower()\n",
    "print(\"Count of the Character is :\",char_count(s1,s2))"
   ]
  },
  {
   "cell_type": "markdown",
   "id": "73dc6e4f",
   "metadata": {},
   "source": [
    "### 2) Rebound Height"
   ]
  },
  {
   "cell_type": "markdown",
   "id": "79e8e93c",
   "metadata": {},
   "source": [
    "Note:H1= 𝐻*e^2n\n",
    "e^n=V/Vn"
   ]
  },
  {
   "cell_type": "code",
   "execution_count": 6,
   "id": "24a18e23",
   "metadata": {},
   "outputs": [
    {
     "name": "stdout",
     "output_type": "stream",
     "text": [
      "Enter the initial height:10\n",
      "Enter the initial velocity:20\n",
      "Enter the final velocity:5\n",
      "Rebounded Height: 160\n"
     ]
    }
   ],
   "source": [
    "def rebound_height(H,V,Vn):\n",
    "    e=V/Vn\n",
    "    H1=H*e*e\n",
    "    return H1\n",
    "H=int(input(\"Enter the initial height:\"))\n",
    "V=int(input(\"Enter the initial velocity:\"))\n",
    "Vn=int(input(\"Enter the final velocity:\"))\n",
    "print(\"Rebounded Height:\",int(rebound_height(H,V,Vn)))"
   ]
  },
  {
   "cell_type": "markdown",
   "id": "79dbc43e",
   "metadata": {},
   "source": [
    "### 3)EvenOdd"
   ]
  },
  {
   "cell_type": "code",
   "execution_count": 10,
   "id": "7fa7cab8",
   "metadata": {},
   "outputs": [
    {
     "name": "stdout",
     "output_type": "stream",
     "text": [
      "odd even odd even odd\n"
     ]
    }
   ],
   "source": [
    "def label_even_odd(a, n):\n",
    "    result = []\n",
    "    for num in a:\n",
    "        if num % 2 == 0:\n",
    "            result.append(\"even\")\n",
    "        else:\n",
    "            result.append(\"odd\")\n",
    "    return ' '.join(result)\n",
    "\n",
    "# Example usage:\n",
    "a = [1, 2, 3, 4, 5]\n",
    "n = len(a)\n",
    "output = label_even_odd(a, n)\n",
    "print(output)  # Output: \"odd even odd even odd\"\n"
   ]
  },
  {
   "cell_type": "code",
   "execution_count": 6,
   "id": "da39affa",
   "metadata": {},
   "outputs": [
    {
     "name": "stdout",
     "output_type": "stream",
     "text": [
      "Enter the length of the array: 4\n",
      "Enter the Element: 67\n",
      "Enter the Element: 89\n",
      "Enter the Element: 09\n",
      "Enter the Element: 45\n",
      "Odd Odd Odd Odd\n"
     ]
    }
   ],
   "source": [
    "def even_odd(A):\n",
    "    res = \"\"\n",
    "    for char in A:\n",
    "        if char % 2 == 0:\n",
    "            res += \"Even \"\n",
    "        else:\n",
    "            res += \"Odd \"\n",
    "    return res.strip()  # strip() removes any trailing spaces\n",
    "\n",
    "A = []\n",
    "n = int(input(\"Enter the length of the array: \"))\n",
    "for i in range(n):\n",
    "    A.append(int(input(\"Enter the Element: \")))\n",
    "\n",
    "print(even_odd(A))\n"
   ]
  },
  {
   "cell_type": "code",
   "execution_count": 11,
   "id": "e77d8de3",
   "metadata": {},
   "outputs": [
    {
     "name": "stdout",
     "output_type": "stream",
     "text": [
      "23 45 67 89\n",
      "Odd Odd Odd Odd\n"
     ]
    }
   ],
   "source": [
    "def even_odd(A):\n",
    "    res=[]\n",
    "    for num in A:\n",
    "        if num%2 ==0:\n",
    "            res.append(\"Even\")\n",
    "        else:\n",
    "            res.append(\"Odd\")\n",
    "    return ' '.join(res)\n",
    "A=list(map(int,input().split()))\n",
    "print(even_odd(A))"
   ]
  },
  {
   "cell_type": "markdown",
   "id": "918924eb",
   "metadata": {},
   "source": [
    "### 4) Sum XOR"
   ]
  },
  {
   "cell_type": "code",
   "execution_count": 18,
   "id": "29b8d212",
   "metadata": {},
   "outputs": [
    {
     "name": "stdout",
     "output_type": "stream",
     "text": [
      "10 5 6 3 7 2\n",
      "-1\n"
     ]
    }
   ],
   "source": [
    "a=list(map(int,input().split()))\n",
    "i=1\n",
    "s=0\n",
    "x=0\n",
    "while(i<len(a)+1):\n",
    "    s+=a[i]\n",
    "    x=x^a[i-1]\n",
    "    i+=2\n",
    "print(s-x)      "
   ]
  },
  {
   "cell_type": "code",
   "execution_count": 4,
   "id": "d0909148",
   "metadata": {},
   "outputs": [
    {
     "name": "stdout",
     "output_type": "stream",
     "text": [
      "10 5 6 3 7 2\n",
      "-1\n"
     ]
    }
   ],
   "source": [
    "def sum_xor(A):\n",
    "    i=1\n",
    "    s=0\n",
    "    x=0\n",
    "    while(i<len(A)+1):\n",
    "        s+=A[i]\n",
    "        x=x^A[i-1]\n",
    "        i+=2\n",
    "    return s-x\n",
    "A=list(map(int,input().split()))\n",
    "print(sum_xor(A))"
   ]
  },
  {
   "cell_type": "code",
   "execution_count": 5,
   "id": "5d8e138d",
   "metadata": {},
   "outputs": [
    {
     "name": "stdout",
     "output_type": "stream",
     "text": [
      "10 5 6 3 7 2\n",
      "-1\n"
     ]
    }
   ],
   "source": [
    "def sum_xor(A):\n",
    "    i = 1\n",
    "    s = 0\n",
    "    x = 0\n",
    "    while i < len(A):  # Check that i is within bounds\n",
    "        s += A[i]       # Add A[i] to s\n",
    "        x ^= A[i-1]     # XOR A[i-1] with x\n",
    "        i += 2          # Increment i by 2\n",
    "    return s - x\n",
    "\n",
    "A = list(map(int, input().split()))\n",
    "print(sum_xor(A))\n"
   ]
  },
  {
   "cell_type": "markdown",
   "id": "b343f5cb",
   "metadata": {},
   "source": [
    "### 5) Maximize Pair Product"
   ]
  },
  {
   "cell_type": "code",
   "execution_count": 11,
   "id": "022e4b33",
   "metadata": {},
   "outputs": [
    {
     "name": "stdout",
     "output_type": "stream",
     "text": [
      "11 1 2 8 10 11 15 7\n",
      "(10, 8)\n"
     ]
    }
   ],
   "source": [
    "A = list(map(int, input().split()))\n",
    "s = 18\n",
    "for i in range(len(A) - 1):  # Iterate only up to len(A) - 1\n",
    "    if A[i] + A[i+1] == s:\n",
    "        print((max(A[i], A[i+1]), min(A[i], A[i+1])))\n"
   ]
  },
  {
   "cell_type": "markdown",
   "id": "07fe1e8e",
   "metadata": {},
   "source": [
    "### 6)Special Fibonacci"
   ]
  },
  {
   "cell_type": "code",
   "execution_count": 13,
   "id": "4126b9c4",
   "metadata": {},
   "outputs": [
    {
     "name": "stdout",
     "output_type": "stream",
     "text": [
      "4\n",
      "[0, 1, 1, 2, 3]\n",
      "3\n"
     ]
    }
   ],
   "source": [
    "def fibonacci_series(n):\n",
    "    s=[]\n",
    "    a,b=0,1\n",
    "    for i in range(n+1):\n",
    "        s.append(a)\n",
    "        a,b=b,a+b\n",
    "    print(s)    \n",
    "    return s[n]\n",
    "n=int(input())\n",
    "print(fibonacci_series(n))"
   ]
  },
  {
   "cell_type": "code",
   "execution_count": 14,
   "id": "9f8263df",
   "metadata": {},
   "outputs": [
    {
     "name": "stdout",
     "output_type": "stream",
     "text": [
      "Enter the number of terms: 4\n",
      "Fibonacci series up to 4 terms:\n",
      "[0, 1, 1, 2]\n"
     ]
    }
   ],
   "source": [
    "def fibonacci_series(n):\n",
    "    fib_sequence = []\n",
    "    a, b = 0, 1\n",
    "    for _ in range(n):\n",
    "        fib_sequence.append(a)\n",
    "        a, b = b, a + b\n",
    "    return fib_sequence\n",
    "\n",
    "# Input: Number of terms in the Fibonacci series\n",
    "n = int(input(\"Enter the number of terms: \"))\n",
    "\n",
    "# Generate and print the Fibonacci series\n",
    "print(f\"Fibonacci series up to {n} terms:\")\n",
    "print(fibonacci_series(n))\n"
   ]
  },
  {
   "cell_type": "code",
   "execution_count": 15,
   "id": "d95b87bb",
   "metadata": {},
   "outputs": [
    {
     "name": "stdout",
     "output_type": "stream",
     "text": [
      "Enter the value of N: 4\n",
      "29\n"
     ]
    }
   ],
   "source": [
    "def special_fibonacci(N):\n",
    "    MOD = 47\n",
    "    \n",
    "    # Base cases\n",
    "    if N == 0 or N == 1:\n",
    "        return 1\n",
    "    \n",
    "    # Array to store Fibonacci values up to N\n",
    "    dp = [0] * (N + 1)\n",
    "    dp[0] = 1\n",
    "    dp[1] = 1\n",
    "    \n",
    "    # Calculate the Fibonacci values using the given relation\n",
    "    for i in range(2, N + 1):\n",
    "        dp[i] = (dp[i-1] * dp[i-1] + dp[i-2] * dp[i-2]) % MOD\n",
    "    \n",
    "    return dp[N]\n",
    "\n",
    "# Input\n",
    "N = int(input(\"Enter the value of N: \"))\n",
    "\n",
    "# Output\n",
    "print(special_fibonacci(N))\n"
   ]
  },
  {
   "cell_type": "code",
   "execution_count": null,
   "id": "81b1cc9a",
   "metadata": {},
   "outputs": [],
   "source": []
  }
 ],
 "metadata": {
  "kernelspec": {
   "display_name": "Python 3 (ipykernel)",
   "language": "python",
   "name": "python3"
  },
  "language_info": {
   "codemirror_mode": {
    "name": "ipython",
    "version": 3
   },
   "file_extension": ".py",
   "mimetype": "text/x-python",
   "name": "python",
   "nbconvert_exporter": "python",
   "pygments_lexer": "ipython3",
   "version": "3.9.18"
  }
 },
 "nbformat": 4,
 "nbformat_minor": 5
}
